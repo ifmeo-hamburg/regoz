{
 "cells": [
  {
   "cell_type": "markdown",
   "id": "a3068a6a-bb7e-412f-8aff-875afa0543cb",
   "metadata": {},
   "source": [
    "# Python - plotting a TS-diagram\n",
    "\n",
    "\n",
    "**Aim:** To work with TS to plot a $\\theta-S$ diagram, and create a map of data from reanalysis heat fluxes.\n",
    "\n",
    "**Data:** For the first part of this exercise, use the same profile that you started with for python 2.  For the second part, you will need to download files from [ICDC](https://www.cen.uni-hamburg.de/en/icdc/data/atmosphere/reanalysis-atmosphere/ncep.html)\n",
    "\n",
    "**Directions:** Create an `*.ipynb` and 5 figures.  This will form your answer to questions on the exercise sheet.\n",
    "\n",
    "\n",
    "<hr>"
   ]
  },
  {
   "cell_type": "markdown",
   "id": "2019c0dd-b5e8-44cd-b840-7610db220bf5",
   "metadata": {},
   "source": [
    "## Import your packages\n",
    "\n",
    "You will likely need `xarray`, `matplotlib`, `numpy`, and `gsw`.\n",
    "\n",
    "Create an `*.ipynb` containing the commands for this assignment, or rename this file, e.g., `computing-regoz-3-<Lastname>.ipynb`"
   ]
  },
  {
   "cell_type": "code",
   "execution_count": null,
   "id": "0a841f3a",
   "metadata": {},
   "outputs": [],
   "source": [
    "# Your code here"
   ]
  },
  {
   "cell_type": "markdown",
   "id": "c2ed8992-f586-4722-9d9e-0c3ee762ab35",
   "metadata": {},
   "source": [
    "## Open the notebook in jupyter\n",
    "\n",
    "Copy over the required lines from last time which allow you to load the CTD profile data."
   ]
  },
  {
   "cell_type": "code",
   "execution_count": null,
   "id": "5736636d-c6cf-4e6d-9167-8451b9d40e1f",
   "metadata": {},
   "outputs": [],
   "source": [
    "# Your code here\n",
    "filepath = ''\n"
   ]
  },
  {
   "cell_type": "markdown",
   "id": "37a2ae5c-2539-4dc2-a169-611dbbcbb66e",
   "metadata": {},
   "source": [
    "## Make a $\\theta-S$ plot\n",
    "\n",
    "Recall that a $\\theta-S$ plot should have salinity on the x-axis and temperature (as potential or conservative temperature) on the y-axis. \n",
    "\n",
    "```{hint}\n",
    "Above, it specifies \"potential\" or \"conservative\" temperature.  This is a hint to you that you should be converting your data using the Gibb's Seawater Toolbox [gsw-python](https://teos-10.github.io/GSW-Python/) to create variables for \"conservative temperature\" and \"absolute salinity\" rather than using the default \"temperature\" which is *in situ* and includes the effect of pressure, and \"psal\" or practical salinity.\n",
    "```\n",
    "\n",
    "You may want to reference your code from last time, but change the two inputs you give to `plt.plot` to correspond to your new axes.\n",
    "\n",
    "```{seealso}\n",
    "Cheatsheets for [matplotlib](https://matplotlib.org/cheatsheets/)\n",
    "```"
   ]
  },
  {
   "cell_type": "code",
   "execution_count": 3,
   "id": "af9b50ea-71b7-4ba2-86f4-26bac0f61d10",
   "metadata": {},
   "outputs": [],
   "source": [
    "# Your code here\n"
   ]
  },
  {
   "cell_type": "markdown",
   "id": "79eaf1d0-fbf9-42fa-bcd2-db5a8ae6a155",
   "metadata": {},
   "source": [
    "## Add density\n",
    "\n",
    "Normally, a $\\theta-S$ diagram is not useful without adding density contours.  However, you don't just need the density data.  In order to create a contour plot, you need a 2-dimensional matrix which provides the density for each absolute salinity and conservative temperature that can be found within your plot limits.\n",
    "\n",
    "### Create a vector for temperature and for salinity\n",
    "\n",
    "- Try looking at `help(np.linspace())` for ideas."
   ]
  },
  {
   "cell_type": "markdown",
   "id": "a05dc814-9220-4e44-b2a5-f47962a739b4",
   "metadata": {},
   "source": [
    "## Create a basic profile plot\n",
    "\n",
    "Here we will use commands from the package `matplotlib` to make some basic plots.  \n",
    "\n",
    "Some helpful links:\n",
    "- Getting started (quickstart): https://matplotlib.org/stable/users/explain/quick_start.html\n",
    "- Remembering command names (cheatsheet): https://matplotlib.org/cheatsheets/\n",
    "\n",
    "### Setting up the plot\n",
    "    \n",
    "```python\n",
    "plt.figure(1)\n",
    "plt.clf()\n",
    "plt.subplot(1,2,1)\n",
    "```\n",
    "\n",
    "### Find out your variable names\n",
    "\n",
    "You used `xarray` above to load your `*.nc` file containing vertical profile data.  You now need to know what the variable names within the dataArray are.  Try using the `print` command to find out the exact variable name for pressure, temperature and salinity.  \n",
    "\n",
    "Note that there are a lot of different ways to name these variables.\n",
    "\n",
    "```python\n",
    "plt.plot(DA.salinity,DA.pressure)\n",
    "plt.xlabel('Practical salinity [ ]')\n",
    "plt.ylabel('Pressure [dbar]')\n",
    "plt.gca().invert_yaxis()  # Question: What happens if you comment out this line?\n",
    "```\n",
    "\n",
    "Note that in the above commands, it assumes you named your dataset `DA` (when you loaded the `*.nc` file using `xarray` above).  In the plot command, you need to replace `DA` with whatever you chose to name your dataset.  Additionally, the variable names for variables contained with the `DA` dataset are written in the plot command above as `salinity` and `pressure`, but you will need to replace these with whatever you found the variables names to be when you did a `print(DA)` on your dataset.\n",
    "\n",
    "Modify your plot:\n",
    "\n",
    "1. Add grid lines\n",
    "\n",
    "2. Limit the top of the plot to the surface (p=0)\n",
    "\n",
    "3. Add a second plot for temperature, to the right of the salinity plot\n",
    "\n",
    "Try the command:\n",
    "```python\n",
    "fig, (ax1, ax2) = plt.subplots(2,1)\n",
    "```\n",
    "What does this do for you?\n",
    "\n",
    "4. Try adding a title to your figure.  This could be the station number, or location (lat/lon) or your name.  For this exercise, the only purpose of adding a title is so you find the command for title.\n",
    "\n",
    "5. Print the figure to a `*.png` file with a useful name for sending in as part of your assignment, like `regoz-fig1-<Lastname>.png` where you replace `<Lastname>` with your last name.\n",
    "\n",
    "Try the command:\n",
    "```python\n",
    "fig.savefig(\"regoz-fig1-Lastname.png\", dpi=300)\n",
    "```"
   ]
  },
  {
   "cell_type": "code",
   "execution_count": 2,
   "id": "3f6fc891-c071-43ce-b89f-e98bd9d57207",
   "metadata": {},
   "outputs": [],
   "source": [
    "# Your code here"
   ]
  },
  {
   "cell_type": "markdown",
   "id": "78ff338b-f692-4589-81d2-5a2568c72d48",
   "metadata": {},
   "source": [
    "# GSW: Calculate TEOS-10 parameters\n",
    "\n",
    "- Calculate absolute salinity and conservative temperature\n",
    "- (Optional) Repeat for both primary and secondary channels\n",
    "\n",
    "\n",
    "You will need to use the Gibbs Seawater toolbox (gsw).  See the docs: https://teos-10.github.io/GSW-Python/conversions.html and look for a function that says \n",
    "- `CT_from_t` which means, compute conservative temperature from temperature.\n",
    "- `SA_from_SP` which means, compute absolute salinity from practical salinity.\n",
    "\n",
    "*Note: if you were unable to load the `gsw` package, then you can skip this step for now.*\n",
    "\n",
    "Once you've calculated absolute salinity and conservative temperature, repeat your profile plot from above, and save it as a `png` file.\n"
   ]
  },
  {
   "cell_type": "code",
   "execution_count": 2,
   "id": "a1b5e6a4-e96a-41ad-8a3b-7bf213365419",
   "metadata": {},
   "outputs": [],
   "source": [
    "# Your code here"
   ]
  }
 ],
 "metadata": {
  "kernelspec": {
   "display_name": "Python [conda env:seaocn_env] *",
   "language": "python",
   "name": "conda-env-seaocn_env-py"
  },
  "language_info": {
   "codemirror_mode": {
    "name": "ipython",
    "version": 3
   },
   "file_extension": ".py",
   "mimetype": "text/x-python",
   "name": "python",
   "nbconvert_exporter": "python",
   "pygments_lexer": "ipython3",
   "version": "3.8.19"
  }
 },
 "nbformat": 4,
 "nbformat_minor": 5
}
