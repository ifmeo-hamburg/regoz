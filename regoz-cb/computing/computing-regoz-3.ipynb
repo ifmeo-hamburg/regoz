{
 "cells": [
  {
   "cell_type": "markdown",
   "id": "a3068a6a-bb7e-412f-8aff-875afa0543cb",
   "metadata": {},
   "source": [
    "# Python - making a $\\theta$-S diagram\n",
    "\n",
    "\n",
    "**Aim:** Create at $\\theta$-S diagram with density contoured.\n",
    "\n",
    "**Data:** Use the same profile that you started with for python 2.  \n",
    "\n",
    "**Directions:** Create an `*.ipynb` and 1 figures.  This will form your answer to a question on the exercise sheet.\n",
    "\n",
    "\n",
    "<hr>"
   ]
  },
  {
   "cell_type": "markdown",
   "id": "2019c0dd-b5e8-44cd-b840-7610db220bf5",
   "metadata": {},
   "source": [
    "## Import your packages\n",
    "\n",
    "You will likely need `xarray`, `matplotlib`, `numpy`, and `gsw`.\n",
    "\n",
    "Create an `*.ipynb` containing the commands for this assignment, or rename this file, e.g., `computing-regoz-3-<Lastname>.ipynb`"
   ]
  },
  {
   "cell_type": "code",
   "execution_count": 12,
   "id": "0a841f3a",
   "metadata": {},
   "outputs": [],
   "source": [
    "# Your code here\n",
    "import numpy as np"
   ]
  },
  {
   "cell_type": "markdown",
   "id": "c2ed8992-f586-4722-9d9e-0c3ee762ab35",
   "metadata": {},
   "source": [
    "## Open the notebook in jupyter\n",
    "\n",
    "Copy over the required lines from last time which allow you to load the CTD profile data."
   ]
  },
  {
   "cell_type": "code",
   "execution_count": 13,
   "id": "5736636d-c6cf-4e6d-9167-8451b9d40e1f",
   "metadata": {},
   "outputs": [],
   "source": [
    "# Your code here\n",
    "filepath = ''\n"
   ]
  },
  {
   "cell_type": "markdown",
   "id": "37a2ae5c-2539-4dc2-a169-611dbbcbb66e",
   "metadata": {},
   "source": [
    "## Make a $\\theta-S$ plot\n",
    "\n",
    "Recall that a $\\theta-S$ plot should have salinity on the x-axis and temperature (as potential or conservative temperature) on the y-axis. \n",
    "\n",
    "```{hint}\n",
    "Above, it specifies \"potential\" or \"conservative\" temperature.  This is a hint to you that you should be converting your data using the Gibb's Seawater Toolbox [gsw-python](https://teos-10.github.io/GSW-Python/) to create variables for \"conservative temperature\" and \"absolute salinity\" rather than using the default \"temperature\" which is *in situ* and includes the effect of pressure, and \"psal\" or practical salinity.\n",
    "```\n",
    "\n",
    "You may want to reference your code from last time, but change the two inputs you give to `plt.plot` to correspond to your new axes.\n",
    "\n",
    "```{seealso}\n",
    "Cheatsheets for [matplotlib](https://matplotlib.org/cheatsheets/)\n",
    "```"
   ]
  },
  {
   "cell_type": "code",
   "execution_count": 14,
   "id": "af9b50ea-71b7-4ba2-86f4-26bac0f61d10",
   "metadata": {},
   "outputs": [],
   "source": [
    "# Your code here\n"
   ]
  },
  {
   "cell_type": "markdown",
   "id": "79eaf1d0-fbf9-42fa-bcd2-db5a8ae6a155",
   "metadata": {},
   "source": [
    "## Add density\n",
    "\n",
    "Normally, a $\\theta-S$ diagram is not useful without adding density contours.  However, you don't just need the density data.  In order to create a contour plot, you need a 2-dimensional matrix which provides the density for each absolute salinity and conservative temperature that can be found within your plot limits.\n",
    "\n",
    "### Create a vector for temperature and for salinity\n",
    "\n",
    "- Try looking at `help(np.linspace)` for ideas."
   ]
  },
  {
   "cell_type": "code",
   "execution_count": 19,
   "id": "23133abc",
   "metadata": {},
   "outputs": [],
   "source": [
    "# Your code here\n"
   ]
  },
  {
   "cell_type": "markdown",
   "id": "a05dc814-9220-4e44-b2a5-f47962a739b4",
   "metadata": {},
   "source": [
    "### Now make a 2-dimensional matrix using the vectors\n",
    "\n",
    "- Try looking at `help(np.meshgrid)` for ideas"
   ]
  },
  {
   "cell_type": "code",
   "execution_count": 20,
   "id": "3f6fc891-c071-43ce-b89f-e98bd9d57207",
   "metadata": {},
   "outputs": [],
   "source": [
    "# Your code here"
   ]
  },
  {
   "cell_type": "markdown",
   "id": "8c1ed548",
   "metadata": {},
   "source": [
    "### Calculate density from the matrix\n",
    "\n",
    "Using the GSW toolbox, calculate density (as e.g., $\\sigma_2$) at each location in your temperature-salinity plot.\n",
    "\n",
    "See for example `help(gsw.density.sigma2)` to see how to calculate it.\n",
    "\n",
    "Try typing `gsw.density.` and then hitting the \"tab\" key to see what other density calculations are available.\n",
    "\n"
   ]
  },
  {
   "cell_type": "code",
   "execution_count": null,
   "id": "e9d5ed00",
   "metadata": {},
   "outputs": [],
   "source": []
  },
  {
   "cell_type": "markdown",
   "id": "78ff338b-f692-4589-81d2-5a2568c72d48",
   "metadata": {},
   "source": [
    "### Add the density as contours\n",
    "\n",
    "1. Contour the density matrix on the same axes where you've plotted the T-S diagram.\n",
    "\n",
    "```{seealso}\n",
    "Matplot lib on contour: https://matplotlib.org/stable/plot_types/arrays/contour.html#sphx-glr-plot-types-arrays-contour-py\n",
    "```\n",
    "\n",
    "2. Add contour labels.\n",
    "\n",
    "3. Spend a little time making your figure more legible: https://matplotlib.org/cheatsheets/_images/cheatsheets-2.png "
   ]
  },
  {
   "cell_type": "code",
   "execution_count": 6,
   "id": "a1b5e6a4-e96a-41ad-8a3b-7bf213365419",
   "metadata": {},
   "outputs": [],
   "source": [
    "# Your code here"
   ]
  }
 ],
 "metadata": {
  "kernelspec": {
   "display_name": "Python [conda env:root] *",
   "language": "python",
   "name": "conda-root-py"
  },
  "language_info": {
   "codemirror_mode": {
    "name": "ipython",
    "version": 3
   },
   "file_extension": ".py",
   "mimetype": "text/x-python",
   "name": "python",
   "nbconvert_exporter": "python",
   "pygments_lexer": "ipython3",
   "version": "3.8.18"
  }
 },
 "nbformat": 4,
 "nbformat_minor": 5
}
