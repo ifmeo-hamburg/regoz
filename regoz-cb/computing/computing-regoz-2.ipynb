{
 "cells": [
  {
   "cell_type": "markdown",
   "id": "a3068a6a-bb7e-412f-8aff-875afa0543cb",
   "metadata": {},
   "source": [
    "# Python - plotting a profile\n",
    "\n",
    "\n",
    "**Aim:** To work with vertical profile data and make some standard calculations.\n",
    "\n",
    "**Learning outcomes:** At the end of this lab, you will be able to:\n",
    "1. Make a vertical profile plot of temperature and salinity data\n",
    "2. Adjust figure settings\n",
    "\n",
    "**Data:** You will work with one `*.nc` file from the MSM121 cruise off of 47°N.\n",
    "\n",
    "**Directions:** Create an `*.ipynb` and 1 figure.  This should be submitted along with your answers to the exercises.\n",
    "\n",
    "\n",
    "<hr>"
   ]
  },
  {
   "cell_type": "markdown",
   "id": "2019c0dd-b5e8-44cd-b840-7610db220bf5",
   "metadata": {},
   "source": [
    "# Start a new code cell.  \n",
    "\n",
    "\n",
    "Create an `*.ipynb` containing the commands for this assignment, or rename this file, e.g., `computing-regoz-2-<Lastname>.ipynb`"
   ]
  },
  {
   "cell_type": "markdown",
   "id": "c2ed8992-f586-4722-9d9e-0c3ee762ab35",
   "metadata": {},
   "source": [
    "## Open the notebook in jupyter\n",
    "\n",
    "Import your packages in a first code cell.\n",
    "\n",
    "```python\n",
    "import matplotlib.pyplot as plt\n",
    "import gsw\n",
    "import numpy as np\n",
    "import xarray as xr\n",
    "```"
   ]
  },
  {
   "cell_type": "code",
   "execution_count": null,
   "id": "5736636d-c6cf-4e6d-9167-8451b9d40e1f",
   "metadata": {},
   "outputs": [],
   "source": [
    "# Your code here"
   ]
  },
  {
   "cell_type": "markdown",
   "id": "37a2ae5c-2539-4dc2-a169-611dbbcbb66e",
   "metadata": {},
   "source": [
    "# Load the data file with `xarray`\n",
    "\n",
    "You may want to read the docs:\n",
    "https://docs.xarray.dev/en/stable/generated/xarray.open_dataset.html \n"
   ]
  },
  {
   "cell_type": "code",
   "execution_count": 3,
   "id": "af9b50ea-71b7-4ba2-86f4-26bac0f61d10",
   "metadata": {},
   "outputs": [],
   "source": [
    "# Your code here\n",
    "filepath = ''\n"
   ]
  },
  {
   "cell_type": "markdown",
   "id": "79eaf1d0-fbf9-42fa-bcd2-db5a8ae6a155",
   "metadata": {},
   "source": [
    "# Take a look at your data\n",
    "\n",
    "Recall the `print` command"
   ]
  },
  {
   "cell_type": "markdown",
   "id": "78ff338b-f692-4589-81d2-5a2568c72d48",
   "metadata": {},
   "source": [
    "# Calculate TEOS-10 parameters\n",
    "\n",
    "- Calculate absolute salinity and conservative temperature\n",
    "- (Optional) Repeat for both primary and secondary channels\n",
    "\n",
    "\n",
    "You will need to use the Gibbs Seawater toolbox (gsw).  See the docs: https://teos-10.github.io/GSW-Python/conversions.html and look for a function that says \n",
    "- `CT_from_t` which means, compute conservative temperature from temperature.\n",
    "- `SA_from_SP` which means, compute absolute salinity from practical salinity.\n"
   ]
  },
  {
   "cell_type": "code",
   "execution_count": 1,
   "id": "3f6fc891-c071-43ce-b89f-e98bd9d57207",
   "metadata": {},
   "outputs": [],
   "source": [
    "# Your code here"
   ]
  },
  {
   "cell_type": "markdown",
   "id": "a05dc814-9220-4e44-b2a5-f47962a739b4",
   "metadata": {},
   "source": [
    "## Create a basic plot\n",
    "\n",
    "### Plot standard parameters\n",
    "    \n",
    "    plt.figure(1)\n",
    "    plt.clf()\n",
    "    plt.subplot(1,2,1)\n",
    "\n",
    "### Note that pycnv already did the TEOS-10 conversion to SA for you using gsw\n",
    "\n",
    "    plt.plot(cnv.SA,cnv.p)\n",
    "    plt.xlabel('Absolute salinity [ ]')\n",
    "    plt.ylabel('Pressure [dbar]')\n",
    "    plt.gca().invert_yaxis()  # Question: What happens if you comment out this line?\n",
    "\n",
    "Here, you are using some plotting commands from `matplotlib`.  Read more here: https://matplotlib.org/cheatsheets/\n",
    "Note that in the above commands, it assumes you have a dataset named `cnv`.  However, this will need to match what you called your dataset above.\n",
    "\n",
    "Modify your plot:\n",
    "\n",
    "1. Add grid lines\n",
    "\n",
    "2. Limit the top of the plot to the surface (p=0)\n",
    "\n",
    "3. Add a second plot for temperature, to the right of the salinity plot\n",
    "\n",
    "4. Add a title to your figure, perhaps the station number, latitude and longitude\n",
    "\n",
    "5. Print the figure to a `*.png` file in the subdirectory `figures/`"
   ]
  },
  {
   "cell_type": "code",
   "execution_count": 2,
   "id": "a1b5e6a4-e96a-41ad-8a3b-7bf213365419",
   "metadata": {},
   "outputs": [],
   "source": [
    "# Your code here"
   ]
  },
  {
   "cell_type": "code",
   "execution_count": null,
   "id": "7ba492dd-94fb-478c-be60-22d66b88a9df",
   "metadata": {},
   "outputs": [],
   "source": []
  }
 ],
 "metadata": {
  "kernelspec": {
   "display_name": "Python [conda env:seaocn_env] *",
   "language": "python",
   "name": "conda-env-seaocn_env-py"
  },
  "language_info": {
   "codemirror_mode": {
    "name": "ipython",
    "version": 3
   },
   "file_extension": ".py",
   "mimetype": "text/x-python",
   "name": "python",
   "nbconvert_exporter": "python",
   "pygments_lexer": "ipython3",
   "version": "3.8.19"
  }
 },
 "nbformat": 4,
 "nbformat_minor": 5
}
