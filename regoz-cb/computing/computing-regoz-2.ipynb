{
 "cells": [
  {
   "cell_type": "markdown",
   "id": "a3068a6a-bb7e-412f-8aff-875afa0543cb",
   "metadata": {},
   "source": [
    "# Python - plotting a profile\n",
    "\n",
    "\n",
    "**Aim:** To work with vertical profile data and make some standard calculations.\n",
    "\n",
    "**Learning outcomes:** At the end of this lab, you will be able to:\n",
    "1. Make a vertical profile plot of temperature and salinity data\n",
    "2. Adjust figure settings\n",
    "\n",
    "**Data:** You will work with one `*.nc` file from the MSM121 cruise off of 47°N.\n",
    "\n",
    "**Directions:** Create an `*.ipynb` and 1 figure.  This will form your answer to question 1 of the exercise sheet.\n",
    "\n",
    "\n",
    "<hr>"
   ]
  },
  {
   "cell_type": "markdown",
   "id": "2019c0dd-b5e8-44cd-b840-7610db220bf5",
   "metadata": {},
   "source": [
    "# Start a new code cell.  \n",
    "\n",
    "\n",
    "Create an `*.ipynb` containing the commands for this assignment, or rename this file, e.g., `computing-regoz-2-<Lastname>.ipynb`"
   ]
  },
  {
   "cell_type": "markdown",
   "id": "c2ed8992-f586-4722-9d9e-0c3ee762ab35",
   "metadata": {},
   "source": [
    "## Open the notebook in jupyter\n",
    "\n",
    "Import your packages in a first code cell.\n",
    "\n",
    "```python\n",
    "import matplotlib.pyplot as plt\n",
    "import gsw\n",
    "import numpy as np\n",
    "import xarray as xr\n",
    "```\n",
    "\n",
    "Note that if you are having trouble importing one of the packages, you will need to install that package.  If the only package you cannot import is `gsw` then you can do most of this exercise without that package."
   ]
  },
  {
   "cell_type": "code",
   "execution_count": null,
   "id": "5736636d-c6cf-4e6d-9167-8451b9d40e1f",
   "metadata": {},
   "outputs": [],
   "source": [
    "# Your code here"
   ]
  },
  {
   "cell_type": "markdown",
   "id": "37a2ae5c-2539-4dc2-a169-611dbbcbb66e",
   "metadata": {},
   "source": [
    "# Load the data file with `xarray`\n",
    "\n",
    "You may want to read the docs:\n",
    "https://docs.xarray.dev/en/stable/generated/xarray.open_dataset.html \n"
   ]
  },
  {
   "cell_type": "code",
   "execution_count": 3,
   "id": "af9b50ea-71b7-4ba2-86f4-26bac0f61d10",
   "metadata": {},
   "outputs": [],
   "source": [
    "# Your code here\n",
    "filepath = ''\n"
   ]
  },
  {
   "cell_type": "markdown",
   "id": "79eaf1d0-fbf9-42fa-bcd2-db5a8ae6a155",
   "metadata": {},
   "source": [
    "## Take a look at your data\n",
    "\n",
    "Recall the `print` command.\n",
    "\n",
    "### What do the data look like?\n",
    "\n",
    "What are the variable names for temperature? For salinity? for depth or pressure?\n",
    "\n",
    "How long are the variables?  You can see this from the `print` or by using the `len` command."
   ]
  },
  {
   "cell_type": "markdown",
   "id": "a05dc814-9220-4e44-b2a5-f47962a739b4",
   "metadata": {},
   "source": [
    "## Create a basic profile plot\n",
    "\n",
    "Here we will use commands from the package `matplotlib` to make some basic plots.  \n",
    "\n",
    "Some helpful links:\n",
    "- Getting started (quickstart): https://matplotlib.org/stable/users/explain/quick_start.html\n",
    "- Remembering command names (cheatsheet): https://matplotlib.org/cheatsheets/\n",
    "\n",
    "### Setting up the plot\n",
    "    \n",
    "```python\n",
    "plt.figure(1)\n",
    "plt.clf()\n",
    "plt.subplot(1,2,1)\n",
    "```\n",
    "\n",
    "### Find out your variable names\n",
    "\n",
    "You used `xarray` above to load your `*.nc` file containing vertical profile data.  You now need to know what the variable names within the dataArray are.  Try using the `print` command to find out the exact variable name for pressure, temperature and salinity.  \n",
    "\n",
    "Note that there are a lot of different ways to name these variables.\n",
    "\n",
    "```python\n",
    "plt.plot(DA.salinity,DA.pressure)\n",
    "plt.xlabel('Practical salinity [ ]')\n",
    "plt.ylabel('Pressure [dbar]')\n",
    "plt.gca().invert_yaxis()  # Question: What happens if you comment out this line?\n",
    "```\n",
    "\n",
    "Note that in the above commands, it assumes you named your dataset `DA` (when you loaded the `*.nc` file using `xarray` above).  In the plot command, you need to replace `DA` with whatever you chose to name your dataset.  Additionally, the variable names for variables contained with the `DA` dataset are written in the plot command above as `salinity` and `pressure`, but you will need to replace these with whatever you found the variables names to be when you did a `print(DA)` on your dataset.\n",
    "\n",
    "Modify your plot:\n",
    "\n",
    "1. Add grid lines\n",
    "\n",
    "2. Limit the top of the plot to the surface (p=0)\n",
    "\n",
    "3. Add a second plot for temperature, to the right of the salinity plot\n",
    "\n",
    "Try the command:\n",
    "```python\n",
    "fig, (ax1, ax2) = plt.subplots(2,1)\n",
    "```\n",
    "What does this do for you?\n",
    "\n",
    "4. Try adding a title to your figure.  This could be the station number, or location (lat/lon) or your name.  For this exercise, the only purpose of adding a title is so you find the command for title.\n",
    "\n",
    "5. Print the figure to a `*.png` file with a useful name for sending in as part of your assignment, like `regoz-fig1-<Lastname>.png` where you replace `<Lastname>` with your last name.\n",
    "\n",
    "Try the command:\n",
    "```python\n",
    "fig.savefig(\"regoz-fig1-Lastname.png\", dpi=300)\n",
    "```"
   ]
  },
  {
   "cell_type": "code",
   "execution_count": 2,
   "id": "3f6fc891-c071-43ce-b89f-e98bd9d57207",
   "metadata": {},
   "outputs": [],
   "source": [
    "# Your code here"
   ]
  },
  {
   "cell_type": "markdown",
   "id": "78ff338b-f692-4589-81d2-5a2568c72d48",
   "metadata": {},
   "source": [
    "# GSW: Calculate TEOS-10 parameters\n",
    "\n",
    "- Calculate absolute salinity and conservative temperature\n",
    "- (Optional) Repeat for both primary and secondary channels\n",
    "\n",
    "\n",
    "You will need to use the Gibbs Seawater toolbox (gsw).  See the docs: https://teos-10.github.io/GSW-Python/conversions.html and look for a function that says \n",
    "- `CT_from_t` which means, compute conservative temperature from temperature.\n",
    "- `SA_from_SP` which means, compute absolute salinity from practical salinity.\n",
    "\n",
    "*Note: if you were unable to load the `gsw` package, then you can skip this step for now.*\n",
    "\n",
    "Once you've calculated absolute salinity and conservative temperature, repeat your profile plot from above, and save it as a `png` file.\n"
   ]
  },
  {
   "cell_type": "code",
   "execution_count": 2,
   "id": "a1b5e6a4-e96a-41ad-8a3b-7bf213365419",
   "metadata": {},
   "outputs": [],
   "source": [
    "# Your code here"
   ]
  }
 ],
 "metadata": {
  "kernelspec": {
   "display_name": "Python [conda env:micromamba-seaocn_env] *",
   "language": "python",
   "name": "conda-env-micromamba-seaocn_env-py"
  },
  "language_info": {
   "codemirror_mode": {
    "name": "ipython",
    "version": 3
   },
   "file_extension": ".py",
   "mimetype": "text/x-python",
   "name": "python",
   "nbconvert_exporter": "python",
   "pygments_lexer": "ipython3",
   "version": "3.11.8"
  }
 },
 "nbformat": 4,
 "nbformat_minor": 5
}
