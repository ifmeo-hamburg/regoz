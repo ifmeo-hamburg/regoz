{
 "cells": [
  {
   "cell_type": "markdown",
   "id": "a3068a6a-bb7e-412f-8aff-875afa0543cb",
   "metadata": {},
   "source": [
    "# Python Introductory lab\n",
    "\n",
    "**Directions:** \n",
    "Follow the instructions on this worksheet and write your answers as you go along.   If you have any trouble, check to be sure you followed the instructions.  If you still need assistance, ask an instructor during the timetabled exercise session.\n",
    "\n",
    "**Aim:** This practical assumes *no prior Python knowledge*.  By following the steps below, you'll learn how to access Python, how to load some simple `*.nc` files, and carry out basic calculations. We'll introduce the concepts of scalars, vectors and matrices in Matlab.  \n",
    "\n",
    "**Learning outcomes:** At the end of this lab, you will be able to:\n",
    "\n",
    "1. Load data into Python (e.g. `csv`-files containing numerical values only).\n",
    "2. Create variables in Python from numbers, i.e. simple *scalars*, *vectors* (using the colon, `:`) and *matrices*, so that you can perform calculations on the variables after.\n",
    "3. Perform simple averages of the data and arithmetic operations, using  functions `mean`, `median`, `sin`,  operators `-`, `*`, and `/`, and transpose vectors and matrices using apostrophe, `'`.\n",
    "4. Use Matlab commands `load` and `whos` to investigate files and variables, and see how the special character, semicolon, `;`, works in Matlab to suppress output to the screen.\n",
    "\n",
    "**Data:** Use the `data_vector.csv` and `data_matrix.csv` data files, available on Moodle. \n",
    "\n",
    "\n",
    "**Check your answers:** This is a formative assessment rather than summative (i.e. the results here do not contribute to your mark in the course).  Answers will be available for you to check on Blackboard.    "
   ]
  },
  {
   "cell_type": "markdown",
   "id": "2019c0dd-b5e8-44cd-b840-7610db220bf5",
   "metadata": {},
   "source": [
    "# Start a new code cell.  \n",
    "\n",
    "In a jupyter notebook, you use the `plus` or '+' symbol"
   ]
  },
  {
   "cell_type": "markdown",
   "id": "c2ed8992-f586-4722-9d9e-0c3ee762ab35",
   "metadata": {},
   "source": [
    "## Arithmetic in Python\n",
    "6. Python can carry out all basic kinds of arithmetic.  Most of the *operators* are the same as you'd expect.  Try typing the following mathematical expressions after the command prompt, `>>` in your code cell.  Press \"shift+Enter\" or click the \">\" play button along the top bar, and Python will *evaluate* or carry out your *command*. \n",
    "\n",
    "a. Try the following in your code cell above.\n",
    "```python\n",
    "3+5*2\n",
    "```\n",
    "<!-- 13 -->\n",
    "\n",
    "b. Recall *order of operations* for arithmetic.  It applies here as well.\n",
    "```python\n",
    "(3+5)*2\n",
    "```\n",
    "<!-- 16 -->\n",
    "\n",
    "c. Fractions or division\n",
    "```python\n",
    "3/5\n",
    "```\n",
    "<!-- 0.6000 -->\n",
    "\n",
    "d. Raise numbers to powers (i.e. squaring numbers) \n",
    "```python\n",
    "5^2\n",
    "```\n",
    "<!-- 25-->\n",
    "\n",
    "e. Irrational numbers\n",
    "```python\n",
    "pi\n",
    "```\n",
    "<!--3.1416-->\n",
    "\n",
    "f. Trigonometric functions\n",
    "```python\n",
    "sin(pi)\n",
    "```\n",
    "<!--0-->\n",
    "_Note: that due to machine or numeric precision, this may not be exact._\n",
    "\n",
    "g. More functions\n",
    "```python\n",
    "log10(10)\n",
    "```"
   ]
  },
  {
   "cell_type": "markdown",
   "id": "8c8027ac-3201-4ab2-b019-42c66deae65c",
   "metadata": {},
   "source": [
    "### For each of the lines above, if you entered more than one in a single cell and then ran or executed the cell, which output was printed to the screen?"
   ]
  },
  {
   "cell_type": "markdown",
   "id": "37a2ae5c-2539-4dc2-a169-611dbbcbb66e",
   "metadata": {},
   "source": [
    "7. **Create a *variable* in Python.**  One of the powerful things about programming languages is that you can \"name\" your data.  Rather than carrying out a stream of calculations in the command window, you can work with different numbers at the same time, save partial answers, and combine them later.\n",
    "\n",
    "    a. **Create a *scalar* variable.**  To create a variable, you choose a name for it which starts with a character, e.g. `a`, and then put it at the left of the equal sign in your command window.  Put the value you'd like to assign to that variable to the right of the equal sign.    A scalar variable is a single number.\n",
    "    ```python\n",
    "    a=3\n",
    "    ```\n",
    "\n",
    "    Enter this in a code cell below.\n",
    "\n",
    "   Create a new code cell after, and type `a` then run the cell.  What is printed to the screen?\n",
    "\n",
    "   Try also a `print(a)` then execute.  This shows you what is contained in your variable `a`.\n",
    "\n",
    "   Try a `type(a)` then execute.  This command tells you what type of variable `a` is."
   ]
  },
  {
   "cell_type": "code",
   "execution_count": 10,
   "id": "af9b50ea-71b7-4ba2-86f4-26bac0f61d10",
   "metadata": {},
   "outputs": [],
   "source": [
    "# Your code here\n",
    "a=3"
   ]
  },
  {
   "cell_type": "markdown",
   "id": "78ff338b-f692-4589-81d2-5a2568c72d48",
   "metadata": {},
   "source": [
    "b. **Lists.** Create a list.  In Python, we can string together a set of numbers (or anything else) with square brackets and commas into a \"list\".\n",
    "```python\n",
    "x=[1, 2, 3]\n",
    "```\n",
    "c. Try a `print(x)` and `type(x)`. \n",
    "\n",
    "d. How long is your vector?  Try `len(x)`.\n"
   ]
  },
  {
   "cell_type": "code",
   "execution_count": 41,
   "id": "3f6fc891-c071-43ce-b89f-e98bd9d57207",
   "metadata": {},
   "outputs": [
    {
     "name": "stdout",
     "output_type": "stream",
     "text": [
      "[1, 2, 3]\n"
     ]
    }
   ],
   "source": [
    "x=[1,2,3]\n",
    "print(x)"
   ]
  },
  {
   "cell_type": "markdown",
   "id": "a05dc814-9220-4e44-b2a5-f47962a739b4",
   "metadata": {},
   "source": [
    "## Numeric operations + packages\n",
    "\n",
    "Now we'd like to do some more numeric operations.  Basic python has a lot of functionality, but to add additional capabiltiies, we import \"packages\".  The packages must be installed on the computer or system already, but in order for your python notebook to know about those capabilities, you need to `import` the packages.\n",
    "\n",
    "A common package for numeric operations is `numpy`.  To import this package, we use the command `import` and then the package name, `numpy`.  Then to call operations from the package, we would use the commands from within `numpy` by writing `numpy.COMMAND`.  Some packages (like `numpy`) are so commonly used that we get lazy to write `numpy` all the time, and we want to shorten it.  We do this by renaming the package as we import it.  \n",
    "\n",
    "```python\n",
    "import numpy as np\n",
    "```\n",
    "\n",
    "Typically, the cell importing packages is at the top or near the top of your notebook, so for all future notebooks in this course, the first code cell will be the import cell."
   ]
  },
  {
   "cell_type": "code",
   "execution_count": 32,
   "id": "4c372fe8-1479-4210-9644-d60d3b357034",
   "metadata": {},
   "outputs": [],
   "source": [
    "# Now we'd like to do some more numeric calculations\n",
    "import numpy as np"
   ]
  },
  {
   "cell_type": "markdown",
   "id": "51f8c73a-58fb-45fd-a020-68ff4f646e5e",
   "metadata": {},
   "source": [
    "## Useful reference\n",
    "```seealso\n",
    "https://numpy.org/doc/stable/user/basics.creation.html\n",
    "```"
   ]
  },
  {
   "cell_type": "code",
   "execution_count": 42,
   "id": "6d8b7904-9db0-494e-a185-83bfabbca61a",
   "metadata": {},
   "outputs": [],
   "source": [
    "# Create a numpy array\n",
    "x1D = np.array([1, 2, 3, 4])\n"
   ]
  },
  {
   "cell_type": "code",
   "execution_count": 43,
   "id": "9346a0f6-58ec-47bf-82c0-95a875129064",
   "metadata": {},
   "outputs": [],
   "source": [
    "# Print the contents of the new array to the screen using the `print` command"
   ]
  },
  {
   "cell_type": "code",
   "execution_count": 38,
   "id": "ebd426e2-427f-4e2b-b784-ef6213a87f0d",
   "metadata": {},
   "outputs": [
    {
     "data": {
      "text/plain": [
       "numpy.ndarray"
      ]
     },
     "execution_count": 38,
     "metadata": {},
     "output_type": "execute_result"
    }
   ],
   "source": [
    "# Check the type of the array with the `type` command\n"
   ]
  },
  {
   "cell_type": "markdown",
   "id": "912a5771-35b0-487a-a04e-b753e17fec5b",
   "metadata": {},
   "source": [
    "### Check for yourself - how did these differ from the list `x` above?"
   ]
  },
  {
   "cell_type": "markdown",
   "id": "091b5c8e-4d12-41f3-a542-7ac21a8c3015",
   "metadata": {},
   "source": [
    "# Calculate the average of the vector\n",
    "\n",
    "Here, there are two different ways to do this.  Type the `numpy` command `mean` with \"np.mean(<YOUR VARIABLE>)\"\n",
    "```python\n",
    "np.mean(x1D)\n",
    "```\n",
    "\n",
    "Try this below.\n",
    "\n",
    "In another cell after, the alternate formulation is:\n",
    "```python\n",
    "x1D.mean()\n",
    "```\n",
    "\n"
   ]
  },
  {
   "cell_type": "code",
   "execution_count": 46,
   "id": "64f247cc-85f6-4a9a-b238-1d1e5f7e19de",
   "metadata": {},
   "outputs": [
    {
     "data": {
      "text/plain": [
       "2.5"
      ]
     },
     "execution_count": 46,
     "metadata": {},
     "output_type": "execute_result"
    }
   ],
   "source": [
    "np.mean(x1D)"
   ]
  },
  {
   "cell_type": "code",
   "execution_count": 47,
   "id": "b394c18d-cfa4-4c02-83a6-8ad7054cf664",
   "metadata": {},
   "outputs": [
    {
     "data": {
      "text/plain": [
       "2.5"
      ]
     },
     "execution_count": 47,
     "metadata": {},
     "output_type": "execute_result"
    }
   ],
   "source": [
    "x1D.mean()"
   ]
  },
  {
   "cell_type": "code",
   "execution_count": null,
   "id": "751ed68c-26d3-4751-b9aa-77d5757c1897",
   "metadata": {},
   "outputs": [],
   "source": []
  }
 ],
 "metadata": {
  "kernelspec": {
   "display_name": "Python [conda env:root]",
   "language": "python",
   "name": "conda-root-py"
  },
  "language_info": {
   "codemirror_mode": {
    "name": "ipython",
    "version": 3
   },
   "file_extension": ".py",
   "mimetype": "text/x-python",
   "name": "python",
   "nbconvert_exporter": "python",
   "pygments_lexer": "ipython3",
   "version": "3.9.5"
  }
 },
 "nbformat": 4,
 "nbformat_minor": 5
}
