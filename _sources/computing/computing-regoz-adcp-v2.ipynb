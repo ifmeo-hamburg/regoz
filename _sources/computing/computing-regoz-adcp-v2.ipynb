{
 "cells": [
  {
   "cell_type": "markdown",
   "id": "7ddb327a-4ad2-44ed-93c2-9c7bfd55d80b",
   "metadata": {},
   "source": [
    "# Python - Loading and plotting ADCP data\n",
    "\n",
    "\n",
    "**Aim:** To load and plot ADCP data from a *.000 binary file.\n",
    "\n",
    "**Data:** Download the data files from [here](https://www.dropbox.com/scl/fo/27wbpt79e3q60361pilc2/AJHljaPMOuvWINNI4rbHKmM?rlkey=0a47lwvc0aqy2amd55n7q48nz&dl=0)\n",
    "\n",
    "**Directions:** Create an `*.ipynb` and 2 figures: the sections of velocity.\n",
    "\n",
    "\n",
    "\n",
    "<hr>"
   ]
  },
  {
   "cell_type": "code",
   "execution_count": 2,
   "id": "32d7eb42-84b9-463a-b4e9-42aec932a7ad",
   "metadata": {},
   "outputs": [],
   "source": [
    "# Your code here\n",
    "import matplotlib.pyplot as plt\n",
    "import pandas as pd\n",
    "import numpy as np\n",
    "import xarray as xr\n",
    "from datetime import datetime\n",
    "import scipy.io as sio"
   ]
  },
  {
   "cell_type": "markdown",
   "id": "e419f6fb-58e7-40de-ae65-7320258e6077",
   "metadata": {},
   "source": [
    "## 1. Load the Matlab-format data.\n",
    "\n",
    "Use the file `ADCP_output_1.mat` in the `ADCP-seepraktikum-2023/` directory. With the scipy package, you can load matlab-format data files into python.\n",
    "\n",
    "```{seealso}\n",
    "Scipy io: https://docs.scipy.org/doc/scipy/tutorial/io.html\n",
    "```"
   ]
  },
  {
   "cell_type": "code",
   "execution_count": 28,
   "id": "bd6623b8-2b36-4d37-82d4-02064ed5ceee",
   "metadata": {},
   "outputs": [
    {
     "name": "stdout",
     "output_type": "stream",
     "text": [
      "dict_keys(['__header__', '__version__', '__globals__', 'bt_ampl', 'bt_corr', 'bt_perc_good', 'bt_range', 'bt_vel', 'config', 'corr', 'depth', 'east_vel', 'error_vel', 'heading', 'heading_std', 'intens', 'mtime', 'name', 'north_vel', 'number', 'perc_good', 'pitch', 'pitch_std', 'pressure', 'pressure_std', 'roll', 'roll_std', 'salinity', 'status', 'temperature', 'vert_vel'])\n"
     ]
    }
   ],
   "source": [
    "filename = 'WR2_adcp.mat'\n",
    "filepath = 'data/'\n",
    "\n",
    "fname = filepath + filename\n",
    "\n",
    "mat_contents = sio.loadmat(fname)\n",
    "print(mat_contents.keys())\n",
    "mykeys = list(mat_contents.keys())"
   ]
  },
  {
   "cell_type": "code",
   "execution_count": 67,
   "id": "343b5194-38d3-4dfd-9d41-596e15847334",
   "metadata": {},
   "outputs": [
    {
     "name": "stdout",
     "output_type": "stream",
     "text": [
      "['bt_ampl', 'bt_corr', 'bt_perc_good', 'bt_range', 'bt_vel', 'config', 'corr', 'depth', 'east_vel', 'error_vel', 'heading', 'heading_std', 'intens', 'mtime', 'name', 'north_vel', 'number', 'perc_good', 'pitch', 'pitch_std', 'pressure', 'pressure_std', 'roll', 'roll_std', 'salinity', 'status', 'temperature', 'vert_vel']\n"
     ]
    }
   ],
   "source": [
    "mtime = mat_contents['mtime'].flatten()\n",
    "roll = mat_contents['roll'].flatten()\n",
    "heading = mat_contents['heading'].flatten()\n",
    "\n",
    "keys2 = mykeys[3:]\n",
    "print(keys2)\n",
    "\n",
    "qdo=0\n",
    "for ii in keys2:\n",
    "    data1 = mat_contents[ii].flatten()\n",
    "    if len(data1)==len(mtime):\n",
    "        if ii=='mtime':\n",
    "            0\n",
    "        else:\n",
    "            data_xr2 = xr.DataArray(name=ii, data=ii,\n",
    "                                    coords = {'mtime': mtime},\n",
    "                                    dims = [\"mtime\"])\n",
    "            if qdo==0:\n",
    "                data_all=data_xr2\n",
    "                qdo=1\n",
    "            else:\n",
    "                data_all = xr.merge([data_all, data_xr2])\n",
    "        \n",
    "\n",
    "ranges = mat_contents['config']['ranges'].flatten()[0].flatten()\n",
    "\n"
   ]
  },
  {
   "cell_type": "code",
   "execution_count": 76,
   "id": "c23a6832-4bda-47f1-a0c2-1214ffd21bc4",
   "metadata": {},
   "outputs": [],
   "source": [
    "for ii in keys2:\n",
    "    data1 = mat_contents[ii].flatten()\n",
    "    if len(data1)==141*len(mtime):\n",
    "        data1 = mat_contents[ii]\n",
    "        data_xr2 = xr.DataArray(name=ii, data=data1,\n",
    "                                coords = {'ranges': ranges, 'mtime': mtime},\n",
    "                                dims = [\"ranges\", \"mtime\"])\n",
    "        data_all = xr.merge([data_all, data_xr2])\n"
   ]
  },
  {
   "cell_type": "code",
   "execution_count": 77,
   "id": "3fb26585-bd72-4858-a2d0-7a3910616f95",
   "metadata": {},
   "outputs": [
    {
     "name": "stdout",
     "output_type": "stream",
     "text": [
      "<xarray.Dataset>\n",
      "Dimensions:       (mtime: 2724, ranges: 141)\n",
      "Coordinates:\n",
      "  * mtime         (mtime) float64 7.39e+05 7.39e+05 ... 7.39e+05 7.39e+05\n",
      "  * ranges        (ranges) float64 0.85 1.35 1.85 2.35 ... 69.85 70.35 70.85\n",
      "Data variables: (12/16)\n",
      "    depth         (mtime) <U5 'depth' 'depth' 'depth' ... 'depth' 'depth'\n",
      "    heading       (mtime) <U7 'heading' 'heading' ... 'heading' 'heading'\n",
      "    heading_std   (mtime) <U11 'heading_std' 'heading_std' ... 'heading_std'\n",
      "    number        (mtime) <U6 'number' 'number' 'number' ... 'number' 'number'\n",
      "    pitch         (mtime) <U5 'pitch' 'pitch' 'pitch' ... 'pitch' 'pitch'\n",
      "    pitch_std     (mtime) <U9 'pitch_std' 'pitch_std' ... 'pitch_std'\n",
      "    ...            ...\n",
      "    salinity      (mtime) <U8 'salinity' 'salinity' ... 'salinity' 'salinity'\n",
      "    temperature   (mtime) <U11 'temperature' 'temperature' ... 'temperature'\n",
      "    east_vel      (ranges, mtime) float64 0.0318 -0.0314 -0.1986 ... nan nan nan\n",
      "    error_vel     (ranges, mtime) float64 0.089 0.0402 -0.0522 ... nan nan nan\n",
      "    north_vel     (ranges, mtime) float64 -2.954 -3.05 -3.041 ... nan nan nan\n",
      "    vert_vel      (ranges, mtime) float64 0.0192 0.0056 0.0546 ... nan nan nan\n"
     ]
    }
   ],
   "source": [
    "print(data_all)"
   ]
  }
 ],
 "metadata": {
  "kernelspec": {
   "display_name": "Python [conda env:root] *",
   "language": "python",
   "name": "conda-root-py"
  },
  "language_info": {
   "codemirror_mode": {
    "name": "ipython",
    "version": 3
   },
   "file_extension": ".py",
   "mimetype": "text/x-python",
   "name": "python",
   "nbconvert_exporter": "python",
   "pygments_lexer": "ipython3",
   "version": "3.8.18"
  }
 },
 "nbformat": 4,
 "nbformat_minor": 5
}
