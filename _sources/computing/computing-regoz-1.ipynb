{
 "cells": [
  {
   "cell_type": "markdown",
   "id": "a3068a6a-bb7e-412f-8aff-875afa0543cb",
   "metadata": {},
   "source": [
    "# Python Introductory lab\n",
    "\n",
    "**Directions:** \n",
    "Follow the instructions on this worksheet and write your answers as you go along.   If you have any trouble, check to be sure you followed the instructions.  If you still need assistance, ask an instructor during the timetabled exercise session.\n",
    "\n",
    "**Aim:** This practical assumes *no prior Python knowledge*.  By following the steps below, you'll learn how to access Python, how to load some simple `*.nc` files, and carry out basic calculations. We'll introduce the concepts of scalars, vectors and matrices in Matlab.  \n",
    "\n",
    "**Learning outcomes:** At the end of this lab, you will be able to:\n",
    "\n",
    "1. Load data into Python (e.g. `csv`-files containing numerical values only).\n",
    "2. Create variables in Python from numbers, i.e. simple *scalars*, *vectors* (using the colon, `:`) and *matrices*, so that you can perform calculations on the variables after.\n",
    "3. Perform simple averages of the data and arithmetic operations, using  functions `mean`, `median`, `sin`,  operators `-`, `*`, and `/`, and transpose vectors and matrices using apostrophe, `'`.\n",
    "4. Use Matlab commands `load` and `whos` to investigate files and variables, and see how the special character, semicolon, `;`, works in Matlab to suppress output to the screen.\n",
    "\n",
    "**Data:** Use the `data_vector.csv` and `data_matrix.csv` data files, available on Moodle. \n",
    "\n",
    "\n",
    "**Check your answers:** This is a formative assessment rather than summative (i.e. the results here do not contribute to your mark in the course).  Answers will be available for you to check on Blackboard.    "
   ]
  },
  {
   "cell_type": "markdown",
   "id": "2019c0dd-b5e8-44cd-b840-7610db220bf5",
   "metadata": {},
   "source": [
    "# Start a new code cell.  \n",
    "\n",
    "In a jupyter notebook, you use the `plus` or '+' symbol"
   ]
  },
  {
   "cell_type": "markdown",
   "id": "c2ed8992-f586-4722-9d9e-0c3ee762ab35",
   "metadata": {},
   "source": [
    "## Arithmetic in Python\n",
    "6. Python can carry out all basic kinds of arithmetic.  Most of the *operators* are the same as you'd expect.  Try typing the following mathematical expressions after the command prompt, `>>` in your code cell.  Press \"shift+Enter\" or click the \">\" play button along the top bar, and Python will *evaluate* or carry out your *command*. \n",
    "\n",
    "a. Try the following in your code cell above.\n",
    "```python\n",
    "3+5*2\n",
    "```\n",
    "<!-- 13 -->\n",
    "\n",
    "b. Recall *order of operations* for arithmetic.  It applies here as well.\n",
    "```python\n",
    "(3+5)*2\n",
    "```\n",
    "<!-- 16 -->\n",
    "\n",
    "c. Fractions or division\n",
    "```python\n",
    "3/5\n",
    "```\n",
    "<!-- 0.6000 -->\n",
    "\n",
    "d. Raise numbers to powers (i.e. squaring numbers) \n",
    "```python\n",
    "5^2\n",
    "```\n",
    "<!-- 25-->\n",
    "\n",
    "e. Irrational numbers\n",
    "```python\n",
    "pi\n",
    "```\n",
    "<!--3.1416-->\n",
    "\n",
    "f. Trigonometric functions\n",
    "```python\n",
    "sin(pi)\n",
    "```\n",
    "<!--0-->\n",
    "_Note: that due to machine or numeric precision, this may not be exact._\n",
    "\n",
    "g. More functions\n",
    "```python\n",
    "log10(10)\n",
    "```"
   ]
  },
  {
   "cell_type": "markdown",
   "id": "8c8027ac-3201-4ab2-b019-42c66deae65c",
   "metadata": {},
   "source": [
    "### For each of the lines above, if you entered more than one in a single cell and then ran or executed the cell, which output was printed to the screen?"
   ]
  },
  {
   "cell_type": "markdown",
   "id": "37a2ae5c-2539-4dc2-a169-611dbbcbb66e",
   "metadata": {},
   "source": [
    "7. **Create a *variable* in Python.**  One of the powerful things about programming languages is that you can \"name\" your data.  Rather than carrying out a stream of calculations in the command window, you can work with different numbers at the same time, save partial answers, and combine them later.\n",
    "\n",
    "    a. **Create a *scalar* variable.**  To create a variable, you choose a name for it which starts with a character, e.g. `a`, and then put it at the left of the equal sign in your command window.  Put the value you'd like to assign to that variable to the right of the equal sign.    A scalar variable is a single number.\n",
    "    ```python\n",
    "    a=3\n",
    "    ```\n",
    "\n",
    "    Enter this in a code cell below.\n",
    "\n",
    "   Create a new code cell after, and type `a` then run the cell.  What is printed to the screen?\n",
    "\n",
    "   Try also a `print(a)` then execute.  This shows you what is contained in your variable `a`.\n",
    "\n",
    "   Try a `type(a)` then execute.  This command tells you what type of variable `a` is."
   ]
  },
  {
   "cell_type": "code",
   "execution_count": 1,
   "id": "af9b50ea-71b7-4ba2-86f4-26bac0f61d10",
   "metadata": {},
   "outputs": [],
   "source": [
    "# Your code here\n",
    "a=3"
   ]
  },
  {
   "cell_type": "markdown",
   "id": "78ff338b-f692-4589-81d2-5a2568c72d48",
   "metadata": {},
   "source": [
    "b. **Lists.** Create a list.  In Python, we can string together a set of numbers (or anything else) with square brackets and commas into a \"list\".\n",
    "```python\n",
    "x=[1, 2, 3]\n",
    "```\n",
    "c. Try a `print(x)` and `type(x)`. \n",
    "\n",
    "d. How long is your vector?  Try `len(x)`.\n"
   ]
  },
  {
   "cell_type": "code",
   "execution_count": 2,
   "id": "3f6fc891-c071-43ce-b89f-e98bd9d57207",
   "metadata": {},
   "outputs": [
    {
     "name": "stdout",
     "output_type": "stream",
     "text": [
      "[1, 2, 3]\n"
     ]
    }
   ],
   "source": [
    "x=[1,2,3]\n",
    "print(x)"
   ]
  },
  {
   "cell_type": "markdown",
   "id": "a05dc814-9220-4e44-b2a5-f47962a739b4",
   "metadata": {},
   "source": [
    "## Numeric operations + packages\n",
    "\n",
    "Now we'd like to do some more numeric operations.  Basic python has a lot of functionality, but to add additional capabiltiies, we import \"packages\".  The packages must be installed on the computer or system already (see [installation instructions](https://numpy.org/install/)), but in order for your python notebook to know about those capabilities, you need to `import` the packages.\n",
    "\n",
    "A common package for numeric operations is `numpy`.  To import this package, we use the command `import` and then the package name, `numpy`.  Then to call operations from the package, we would use the commands from within `numpy` by writing `numpy.COMMAND`.  Some packages (like `numpy`) are so commonly used that we get lazy to write `numpy` all the time, and we want to shorten it.  We do this by renaming the package as we import it.  \n",
    "\n",
    "```python\n",
    "import numpy as np\n",
    "```\n",
    "\n",
    "Typically, the cell importing packages is at the top or near the top of your notebook, so for all future notebooks in this course, the first code cell will be the import cell."
   ]
  },
  {
   "cell_type": "code",
   "execution_count": 3,
   "id": "4c372fe8-1479-4210-9644-d60d3b357034",
   "metadata": {},
   "outputs": [],
   "source": [
    "# Now we'd like to do some more numeric calculations\n",
    "import numpy as np"
   ]
  },
  {
   "cell_type": "markdown",
   "id": "51f8c73a-58fb-45fd-a020-68ff4f646e5e",
   "metadata": {},
   "source": [
    "## Useful reference\n",
    "```seealso\n",
    "https://numpy.org/doc/stable/user/basics.creation.html\n",
    "```"
   ]
  },
  {
   "cell_type": "code",
   "execution_count": 4,
   "id": "6d8b7904-9db0-494e-a185-83bfabbca61a",
   "metadata": {},
   "outputs": [],
   "source": [
    "# Create a numpy array\n",
    "x1D = np.array([1, 2, 3, 4])\n"
   ]
  },
  {
   "cell_type": "code",
   "execution_count": 5,
   "id": "9346a0f6-58ec-47bf-82c0-95a875129064",
   "metadata": {},
   "outputs": [],
   "source": [
    "# Print the contents of the new array to the screen using the `print` command"
   ]
  },
  {
   "cell_type": "code",
   "execution_count": 6,
   "id": "ebd426e2-427f-4e2b-b784-ef6213a87f0d",
   "metadata": {},
   "outputs": [],
   "source": [
    "# Check the type of the array with the `type` command\n"
   ]
  },
  {
   "cell_type": "markdown",
   "id": "912a5771-35b0-487a-a04e-b753e17fec5b",
   "metadata": {},
   "source": [
    "### Check for yourself - how did these differ from the list `x` above?"
   ]
  },
  {
   "cell_type": "markdown",
   "id": "091b5c8e-4d12-41f3-a542-7ac21a8c3015",
   "metadata": {},
   "source": [
    "# Calculate the average of the vector\n",
    "\n",
    "Here, there are two different ways to do this.  Type the `numpy` command `mean` with \"np.mean(<YOUR VARIABLE>)\"\n",
    "```python\n",
    "np.mean(x1D)\n",
    "```\n",
    "\n",
    "Try this below.\n",
    "\n",
    "In another cell after, the alternate formulation is:\n",
    "```python\n",
    "x1D.mean()\n",
    "```\n",
    "\n"
   ]
  },
  {
   "cell_type": "code",
   "execution_count": 7,
   "id": "64f247cc-85f6-4a9a-b238-1d1e5f7e19de",
   "metadata": {},
   "outputs": [
    {
     "data": {
      "text/plain": [
       "2.5"
      ]
     },
     "execution_count": 7,
     "metadata": {},
     "output_type": "execute_result"
    }
   ],
   "source": [
    "np.mean(x1D)"
   ]
  },
  {
   "cell_type": "code",
   "execution_count": 8,
   "id": "b394c18d-cfa4-4c02-83a6-8ad7054cf664",
   "metadata": {},
   "outputs": [
    {
     "data": {
      "text/plain": [
       "2.5"
      ]
     },
     "execution_count": 8,
     "metadata": {},
     "output_type": "execute_result"
    }
   ],
   "source": [
    "x1D.mean()"
   ]
  },
  {
   "cell_type": "markdown",
   "id": "f61aa199-4efa-4bfb-b070-8e764b2bae18",
   "metadata": {},
   "source": [
    "## Now try creating a 2 dimensional array (matrix)\n",
    "\n",
    "```python\n",
    "a2D = np.array([[1, 2], [3, 4]])\n",
    "```\n",
    "Calculate the mean *of the rows*.\n",
    "\n",
    "Want to find out more about how to use a function in python?  There are three ways.  Try them below\n",
    "```python\n",
    "info(np.mean)\n",
    "help(np.mean)\n",
    "```\n",
    "or \"np.mean?\"\n",
    "\n",
    "To calculate the mean of the rows, you will need to use the `axis` option for the function."
   ]
  },
  {
   "cell_type": "code",
   "execution_count": 9,
   "id": "3fd4e048-5d0c-4dfa-9803-39da8cb2dc70",
   "metadata": {},
   "outputs": [
    {
     "data": {
      "text/plain": [
       "\u001b[0;31mSignature:\u001b[0m\n",
       "\u001b[0mnp\u001b[0m\u001b[0;34m.\u001b[0m\u001b[0mmean\u001b[0m\u001b[0;34m(\u001b[0m\u001b[0;34m\u001b[0m\n",
       "\u001b[0;34m\u001b[0m    \u001b[0ma\u001b[0m\u001b[0;34m,\u001b[0m\u001b[0;34m\u001b[0m\n",
       "\u001b[0;34m\u001b[0m    \u001b[0maxis\u001b[0m\u001b[0;34m=\u001b[0m\u001b[0;32mNone\u001b[0m\u001b[0;34m,\u001b[0m\u001b[0;34m\u001b[0m\n",
       "\u001b[0;34m\u001b[0m    \u001b[0mdtype\u001b[0m\u001b[0;34m=\u001b[0m\u001b[0;32mNone\u001b[0m\u001b[0;34m,\u001b[0m\u001b[0;34m\u001b[0m\n",
       "\u001b[0;34m\u001b[0m    \u001b[0mout\u001b[0m\u001b[0;34m=\u001b[0m\u001b[0;32mNone\u001b[0m\u001b[0;34m,\u001b[0m\u001b[0;34m\u001b[0m\n",
       "\u001b[0;34m\u001b[0m    \u001b[0mkeepdims\u001b[0m\u001b[0;34m=\u001b[0m\u001b[0;34m<\u001b[0m\u001b[0mno\u001b[0m \u001b[0mvalue\u001b[0m\u001b[0;34m>\u001b[0m\u001b[0;34m,\u001b[0m\u001b[0;34m\u001b[0m\n",
       "\u001b[0;34m\u001b[0m    \u001b[0;34m*\u001b[0m\u001b[0;34m,\u001b[0m\u001b[0;34m\u001b[0m\n",
       "\u001b[0;34m\u001b[0m    \u001b[0mwhere\u001b[0m\u001b[0;34m=\u001b[0m\u001b[0;34m<\u001b[0m\u001b[0mno\u001b[0m \u001b[0mvalue\u001b[0m\u001b[0;34m>\u001b[0m\u001b[0;34m,\u001b[0m\u001b[0;34m\u001b[0m\n",
       "\u001b[0;34m\u001b[0m\u001b[0;34m)\u001b[0m\u001b[0;34m\u001b[0m\u001b[0;34m\u001b[0m\u001b[0m\n",
       "\u001b[0;31mDocstring:\u001b[0m\n",
       "Compute the arithmetic mean along the specified axis.\n",
       "\n",
       "Returns the average of the array elements.  The average is taken over\n",
       "the flattened array by default, otherwise over the specified axis.\n",
       "`float64` intermediate and return values are used for integer inputs.\n",
       "\n",
       "Parameters\n",
       "----------\n",
       "a : array_like\n",
       "    Array containing numbers whose mean is desired. If `a` is not an\n",
       "    array, a conversion is attempted.\n",
       "axis : None or int or tuple of ints, optional\n",
       "    Axis or axes along which the means are computed. The default is to\n",
       "    compute the mean of the flattened array.\n",
       "\n",
       "    .. versionadded:: 1.7.0\n",
       "\n",
       "    If this is a tuple of ints, a mean is performed over multiple axes,\n",
       "    instead of a single axis or all the axes as before.\n",
       "dtype : data-type, optional\n",
       "    Type to use in computing the mean.  For integer inputs, the default\n",
       "    is `float64`; for floating point inputs, it is the same as the\n",
       "    input dtype.\n",
       "out : ndarray, optional\n",
       "    Alternate output array in which to place the result.  The default\n",
       "    is ``None``; if provided, it must have the same shape as the\n",
       "    expected output, but the type will be cast if necessary.\n",
       "    See :ref:`ufuncs-output-type` for more details.\n",
       "\n",
       "keepdims : bool, optional\n",
       "    If this is set to True, the axes which are reduced are left\n",
       "    in the result as dimensions with size one. With this option,\n",
       "    the result will broadcast correctly against the input array.\n",
       "\n",
       "    If the default value is passed, then `keepdims` will not be\n",
       "    passed through to the `mean` method of sub-classes of\n",
       "    `ndarray`, however any non-default value will be.  If the\n",
       "    sub-class' method does not implement `keepdims` any\n",
       "    exceptions will be raised.\n",
       "\n",
       "where : array_like of bool, optional\n",
       "    Elements to include in the mean. See `~numpy.ufunc.reduce` for details.\n",
       "\n",
       "    .. versionadded:: 1.20.0\n",
       "\n",
       "Returns\n",
       "-------\n",
       "m : ndarray, see dtype parameter above\n",
       "    If `out=None`, returns a new array containing the mean values,\n",
       "    otherwise a reference to the output array is returned.\n",
       "\n",
       "See Also\n",
       "--------\n",
       "average : Weighted average\n",
       "std, var, nanmean, nanstd, nanvar\n",
       "\n",
       "Notes\n",
       "-----\n",
       "The arithmetic mean is the sum of the elements along the axis divided\n",
       "by the number of elements.\n",
       "\n",
       "Note that for floating-point input, the mean is computed using the\n",
       "same precision the input has.  Depending on the input data, this can\n",
       "cause the results to be inaccurate, especially for `float32` (see\n",
       "example below).  Specifying a higher-precision accumulator using the\n",
       "`dtype` keyword can alleviate this issue.\n",
       "\n",
       "By default, `float16` results are computed using `float32` intermediates\n",
       "for extra precision.\n",
       "\n",
       "Examples\n",
       "--------\n",
       ">>> a = np.array([[1, 2], [3, 4]])\n",
       ">>> np.mean(a)\n",
       "2.5\n",
       ">>> np.mean(a, axis=0)\n",
       "array([2., 3.])\n",
       ">>> np.mean(a, axis=1)\n",
       "array([1.5, 3.5])\n",
       "\n",
       "In single precision, `mean` can be inaccurate:\n",
       "\n",
       ">>> a = np.zeros((2, 512*512), dtype=np.float32)\n",
       ">>> a[0, :] = 1.0\n",
       ">>> a[1, :] = 0.1\n",
       ">>> np.mean(a)\n",
       "0.54999924\n",
       "\n",
       "Computing the mean in float64 is more accurate:\n",
       "\n",
       ">>> np.mean(a, dtype=np.float64)\n",
       "0.55000000074505806 # may vary\n",
       "\n",
       "Specifying a where argument:\n",
       "\n",
       ">>> a = np.array([[5, 9, 13], [14, 10, 12], [11, 15, 19]])\n",
       ">>> np.mean(a)\n",
       "12.0\n",
       ">>> np.mean(a, where=[[True], [False], [False]])\n",
       "9.0\n",
       "\u001b[0;31mFile:\u001b[0m      ~/opt/miniconda3/envs/seaocn_env/lib/python3.8/site-packages/numpy/core/fromnumeric.py\n",
       "\u001b[0;31mType:\u001b[0m      function"
      ]
     },
     "metadata": {},
     "output_type": "display_data"
    }
   ],
   "source": [
    "np.mean?\n"
   ]
  },
  {
   "cell_type": "code",
   "execution_count": null,
   "id": "a1b5e6a4-e96a-41ad-8a3b-7bf213365419",
   "metadata": {},
   "outputs": [],
   "source": []
  }
 ],
 "metadata": {
  "kernelspec": {
   "display_name": "Python [conda env:seaocn_env] *",
   "language": "python",
   "name": "conda-env-seaocn_env-py"
  },
  "language_info": {
   "codemirror_mode": {
    "name": "ipython",
    "version": 3
   },
   "file_extension": ".py",
   "mimetype": "text/x-python",
   "name": "python",
   "nbconvert_exporter": "python",
   "pygments_lexer": "ipython3",
   "version": "3.8.19"
  }
 },
 "nbformat": 4,
 "nbformat_minor": 5
}
