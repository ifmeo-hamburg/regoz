{
 "cells": [
  {
   "cell_type": "markdown",
   "id": "a3068a6a-bb7e-412f-8aff-875afa0543cb",
   "metadata": {},
   "source": [
    "# Python - Loading and plotting ADCP data\n",
    "\n",
    "\n",
    "**Aim:** To load and plot ADCP data from a *.000 binary file.\n",
    "\n",
    "**Data:** Download the data files from [here](https://www.dropbox.com/scl/fo/2vvmtsn925ce69rdff9vv/ANrCDyUea1yq_jAr6B3KSAA?rlkey=avbthcpyfi014p88tz1djuic6&dl=0)\n",
    "\n",
    "**Package:** You will need to install the `pycurrents_ADCP_processing` package from https://github.com/IOS-OSD-DPG/pycurrents_ADCP_processing.  Follow the instructions carefully.  Note that it expects git and mercurial to be installed.\n",
    "\n",
    "<!--If you prefer to do this without python, you can instead get data here: \n",
    "- [ICDC LAS](http://icdc.cen.uni-hamburg.de/las-int/getUI.do?dsid=id-13512db7081948&catid=DE25BCEB877C860DC89A1CFDB057A4B6&varid=air-id-13512db7081948&plot=XY_zoomable_image&view=xy&auto=true)\n",
    "- [PSL NOAA](https://psl.noaa.gov/data/gridded/data.ncep.reanalysis.html)\n",
    "\n",
    "For the purpose of this exercise, it's fine to use either source.-->\n",
    "\n",
    "**Directions:** Create an `*.ipynb` and 2 figures.\n",
    "\n",
    "\n",
    "<hr>"
   ]
  },
  {
   "cell_type": "markdown",
   "id": "2019c0dd-b5e8-44cd-b840-7610db220bf5",
   "metadata": {},
   "source": [
    "## Create a notebook & load the data\n",
    "\n",
    "1. Create an `*.ipynb` containing the commands for this assignment, or copy this file and rename it, e.g., `computing-regoz-4-<Lastname>.ipynb`  \n",
    "\n",
    "2. Import necessary packages.\n",
    "\n",
    "\n",
    "    For example, `matplotlib` and `pandas` and `numpy` and `xarray`.  You may also need\n",
    "    ```{python}\n",
    "    import matplotlib.pyplot as plt\n",
    "    import pandas as pd\n",
    "    import numpy as np\n",
    "    import xarray as xr\n",
    "    from datetime import datetime\n",
    "    ```\n",
    "    If you are missing any of these packages, please refer to [Resources: Python](../resource/python).\n",
    "\n",
    "3.  Import the pycurrents_ADCP_processing package.  The installation here is multi-step:\n",
    "\n",
    "   \n",
    "\n",
    "5. Download some data.\n",
    "\n",
    "    - Get the data files [here](https://www.dropbox.com/scl/fo/2vvmtsn925ce69rdff9vv/ANrCDyUea1yq_jAr6B3KSAA?rlkey=avbthcpyfi014p88tz1djuic6&dl=0). Put them in a subdirectory called `data/` \n",
    "\n",
    "6. Make a basic exploration. How big are the data?  What are the coordinates?  Use `print()` or other commands you've learned in previous exercises.\n"
   ]
  },
  {
   "cell_type": "code",
   "execution_count": 47,
   "id": "0a841f3a",
   "metadata": {},
   "outputs": [],
   "source": [
    "# Your code here\n",
    "import matplotlib.pyplot as plt\n",
    "import pandas as pd\n",
    "import numpy as np\n",
    "import xarray as xr\n",
    "from datetime import datetime\n",
    "from pycurrents_ADCP_processing import ADCP_processing_L0_L1, ADCP_IOS_Header_file\n",
    "from pycurrents_ADCP_processing import plot_westcoast_nc_LX\n"
   ]
  },
  {
   "cell_type": "markdown",
   "id": "41a44db0-ccfc-4bf5-87bf-0e09b9010344",
   "metadata": {},
   "source": [
    "### Downloading data\n",
    "\n",
    "- Put your data in the folder `data/`\n"
   ]
  },
  {
   "cell_type": "code",
   "execution_count": 63,
   "id": "5736636d-c6cf-4e6d-9167-8451b9d40e1f",
   "metadata": {},
   "outputs": [],
   "source": [
    "# Your code here\n",
    "\n",
    "file_path = 'data/'\n",
    "fname = 'a1_20160713_20170513_0480m.000'\n",
    "mname = 'a1_20160713_20170513_0480m_metadata.csv'\n",
    "f = file_path + fname\n",
    "meta = file_path + mname\n",
    "dest_dir = 'data/'\n"
   ]
  },
  {
   "cell_type": "markdown",
   "id": "5007faaf-35c7-4d50-a4cc-65b491017fbc",
   "metadata": {},
   "source": [
    "### Loading the data using the pycurrents package\n",
    "\n",
    "    ncnames_L0 = ADCP_processing_L0_L1.nc_create_L0_L1(in_file=f, file_meta=meta, dest_dir=dest_dir, level=0)\n"
   ]
  },
  {
   "cell_type": "code",
   "execution_count": 64,
   "id": "c953b55d-5daf-4e38-bb03-f8e2a2a27848",
   "metadata": {},
   "outputs": [
    {
     "name": "stderr",
     "output_type": "stream",
     "text": [
      "/Users/eddifying/micromamba/envs/seaocn_env/lib/python3.8/site-packages/pycurrents_ADCP_processing-1.0.1-py3.8.egg/pycurrents_ADCP_processing/ADCP_processing_L0_L1.py:453: UserWarning: Metadata item recovery_lat in csv file has blank value\n",
      "  warnings.warn(f'Metadata item {row[0]} in csv file has blank value', UserWarning)\n",
      "/Users/eddifying/micromamba/envs/seaocn_env/lib/python3.8/site-packages/pycurrents_ADCP_processing-1.0.1-py3.8.egg/pycurrents_ADCP_processing/ADCP_processing_L0_L1.py:453: UserWarning: Metadata item recovery_lon in csv file has blank value\n",
      "  warnings.warn(f'Metadata item {row[0]} in csv file has blank value', UserWarning)\n",
      "/Users/eddifying/micromamba/envs/seaocn_env/lib/python3.8/site-packages/pycurrents_ADCP_processing-1.0.1-py3.8.egg/pycurrents_ADCP_processing/ADCP_processing_L0_L1.py:453: UserWarning: Metadata item segment_end_indices in csv file has blank value\n",
      "  warnings.warn(f'Metadata item {row[0]} in csv file has blank value', UserWarning)\n",
      "/Users/eddifying/micromamba/envs/seaocn_env/lib/python3.8/site-packages/pycurrents_ADCP_processing-1.0.1-py3.8.egg/pycurrents_ADCP_processing/ADCP_processing_L0_L1.py:453: UserWarning: Metadata item segment_start_indices in csv file has blank value\n",
      "  warnings.warn(f'Metadata item {row[0]} in csv file has blank value', UserWarning)\n",
      "/Users/eddifying/micromamba/envs/seaocn_env/lib/python3.8/site-packages/pycurrents_ADCP_processing-1.0.1-py3.8.egg/pycurrents_ADCP_processing/ADCP_processing_L0_L1.py:532: UserWarning: Workhorse ADCP identified as 75 kHz Long Ranger\n",
      "  warnings.warn('Workhorse ADCP identified as 75 kHz Long Ranger', UserWarning)\n",
      "/Users/eddifying/micromamba/envs/seaocn_env/lib/python3.8/site-packages/pycurrents_ADCP_processing-1.0.1-py3.8.egg/pycurrents_ADCP_processing/ADCP_processing_L0_L1.py:233: UserWarning: Difference between calculated instrument depth and metadata instrument_depth exceeds 0.05% of the total water depth\n",
      "  warnings.warn(\"Difference between calculated instrument depth and metadata \"\n",
      "/Users/eddifying/micromamba/envs/seaocn_env/lib/python3.8/site-packages/pycurrents_ADCP_processing-1.0.1-py3.8.egg/pycurrents_ADCP_processing/ADCP_processing_L0_L1.py:1278: UserWarning: Metadata item recovery_lat with value None not supported by netCDF\n",
      "  warnings.warn(f'Metadata item {key} with value {meta_dict[key]} not supported by netCDF')\n",
      "/Users/eddifying/micromamba/envs/seaocn_env/lib/python3.8/site-packages/pycurrents_ADCP_processing-1.0.1-py3.8.egg/pycurrents_ADCP_processing/ADCP_processing_L0_L1.py:1278: UserWarning: Metadata item recovery_lon with value None not supported by netCDF\n",
      "  warnings.warn(f'Metadata item {key} with value {meta_dict[key]} not supported by netCDF')\n",
      "/Users/eddifying/micromamba/envs/seaocn_env/lib/python3.8/site-packages/pycurrents_ADCP_processing-1.0.1-py3.8.egg/pycurrents_ADCP_processing/ADCP_processing_L0_L1.py:1278: UserWarning: Metadata item segment_end_indices with value None not supported by netCDF\n",
      "  warnings.warn(f'Metadata item {key} with value {meta_dict[key]} not supported by netCDF')\n",
      "/Users/eddifying/micromamba/envs/seaocn_env/lib/python3.8/site-packages/pycurrents_ADCP_processing-1.0.1-py3.8.egg/pycurrents_ADCP_processing/ADCP_processing_L0_L1.py:1278: UserWarning: Metadata item segment_start_indices with value None not supported by netCDF\n",
      "  warnings.warn(f'Metadata item {key} with value {meta_dict[key]} not supported by netCDF')\n",
      "/Users/eddifying/micromamba/envs/seaocn_env/lib/python3.8/site-packages/pycurrents_ADCP_processing-1.0.1-py3.8.egg/pycurrents_ADCP_processing/ADCP_processing_L0_L1.py:453: UserWarning: Metadata item recovery_lat in csv file has blank value\n",
      "  warnings.warn(f'Metadata item {row[0]} in csv file has blank value', UserWarning)\n",
      "/Users/eddifying/micromamba/envs/seaocn_env/lib/python3.8/site-packages/pycurrents_ADCP_processing-1.0.1-py3.8.egg/pycurrents_ADCP_processing/ADCP_processing_L0_L1.py:453: UserWarning: Metadata item recovery_lon in csv file has blank value\n",
      "  warnings.warn(f'Metadata item {row[0]} in csv file has blank value', UserWarning)\n",
      "/Users/eddifying/micromamba/envs/seaocn_env/lib/python3.8/site-packages/pycurrents_ADCP_processing-1.0.1-py3.8.egg/pycurrents_ADCP_processing/ADCP_processing_L0_L1.py:453: UserWarning: Metadata item segment_end_indices in csv file has blank value\n",
      "  warnings.warn(f'Metadata item {row[0]} in csv file has blank value', UserWarning)\n",
      "/Users/eddifying/micromamba/envs/seaocn_env/lib/python3.8/site-packages/pycurrents_ADCP_processing-1.0.1-py3.8.egg/pycurrents_ADCP_processing/ADCP_processing_L0_L1.py:453: UserWarning: Metadata item segment_start_indices in csv file has blank value\n",
      "  warnings.warn(f'Metadata item {row[0]} in csv file has blank value', UserWarning)\n",
      "/Users/eddifying/micromamba/envs/seaocn_env/lib/python3.8/site-packages/pycurrents_ADCP_processing-1.0.1-py3.8.egg/pycurrents_ADCP_processing/ADCP_processing_L0_L1.py:532: UserWarning: Workhorse ADCP identified as 75 kHz Long Ranger\n",
      "  warnings.warn('Workhorse ADCP identified as 75 kHz Long Ranger', UserWarning)\n",
      "/Users/eddifying/micromamba/envs/seaocn_env/lib/python3.8/site-packages/pycurrents_ADCP_processing-1.0.1-py3.8.egg/pycurrents_ADCP_processing/ADCP_processing_L0_L1.py:233: UserWarning: Difference between calculated instrument depth and metadata instrument_depth exceeds 0.05% of the total water depth\n",
      "  warnings.warn(\"Difference between calculated instrument depth and metadata \"\n",
      "/Users/eddifying/micromamba/envs/seaocn_env/lib/python3.8/site-packages/pycurrents_ADCP_processing-1.0.1-py3.8.egg/pycurrents_ADCP_processing/ADCP_processing_L0_L1.py:1278: UserWarning: Metadata item recovery_lat with value None not supported by netCDF\n",
      "  warnings.warn(f'Metadata item {key} with value {meta_dict[key]} not supported by netCDF')\n",
      "/Users/eddifying/micromamba/envs/seaocn_env/lib/python3.8/site-packages/pycurrents_ADCP_processing-1.0.1-py3.8.egg/pycurrents_ADCP_processing/ADCP_processing_L0_L1.py:1278: UserWarning: Metadata item recovery_lon with value None not supported by netCDF\n",
      "  warnings.warn(f'Metadata item {key} with value {meta_dict[key]} not supported by netCDF')\n"
     ]
    }
   ],
   "source": [
    "ncnames_L0 = ADCP_processing_L0_L1.nc_create_L0_L1(in_file=f, file_meta=meta, dest_dir=dest_dir, level=0)\n",
    "ncnames_L1 = ADCP_processing_L0_L1.nc_create_L0_L1(in_file=f, file_meta=meta, dest_dir=dest_dir, level=1)\n"
   ]
  },
  {
   "cell_type": "markdown",
   "id": "2a3cfab9-dfad-4160-b6d1-bec7eb73ab28",
   "metadata": {},
   "source": [
    "### Check out the datafile that was created\n",
    "\n",
    "What are the variable names available?"
   ]
  },
  {
   "cell_type": "code",
   "execution_count": 65,
   "id": "d0aec638-c3da-4100-af56-14eeab71bb6d",
   "metadata": {},
   "outputs": [
    {
     "name": "stdout",
     "output_type": "stream",
     "text": [
      "['data/a1_20160713_20170513_0480m_L1.adcp.nc']\n",
      "<xarray.Dataset>\n",
      "Dimensions:                   (time: 16709, distance: 31)\n",
      "Coordinates:\n",
      "  * time                      (time) datetime64[ns] 2016-07-13T18:00:00 ... 2...\n",
      "  * distance                  (distance) float64 24.56 40.56 ... 488.6 504.6\n",
      "Data variables: (12/30)\n",
      "    VEL_MAGNETIC_EAST         (distance, time) float32 ...\n",
      "    VEL_MAGNETIC_NORTH        (distance, time) float32 ...\n",
      "    LRZAAP01                  (distance, time) float32 ...\n",
      "    LERRAP01                  (distance, time) float32 ...\n",
      "    TNIHCE01                  (distance, time) float32 ...\n",
      "    TNIHCE02                  (distance, time) float32 ...\n",
      "    ...                        ...\n",
      "    filename                  object ...\n",
      "    instrument_serial_number  object ...\n",
      "    instrument_model          object ...\n",
      "    instrument_depth          float32 ...\n",
      "    water_depth               float32 ...\n",
      "    geographic_area           object ...\n",
      "Attributes: (12/76)\n",
      "    acknowledgement:             IOS Mooring Group\n",
      "    agency:                      IOS, Ocean Sciences Division, Sidney, B.C.\n",
      "    anchor_drop_time:            2016-07-13 20:59:00 UTC\n",
      "    anchor_release_time:         2017-05-13 23:00:00 UTC\n",
      "    anchor_type:                 2785 lbs w 2 m chain\n",
      "    comment:                     An archived raw .000 file was used to make t...\n",
      "    ...                          ...\n",
      "    geospatial_lat_units:        degrees_north\n",
      "    geospatial_lon_min:          -126.1952\n",
      "    geospatial_lon_max:          -126.1952\n",
      "    geospatial_lon_units:        degrees_east\n",
      "    geospatial_vertical_min:     -24.56\n",
      "    geospatial_vertical_max:     455.44\n",
      "['VEL_MAGNETIC_EAST', 'VEL_MAGNETIC_NORTH', 'LRZAAP01', 'LERRAP01', 'TNIHCE01', 'TNIHCE02', 'TNIHCE03', 'TNIHCE04', 'CMAGZZ01', 'CMAGZZ02', 'CMAGZZ03', 'CMAGZZ04', 'PCGDAP00', 'PCGDAP02', 'PCGDAP03', 'PCGDAP04', 'PRESPR01', 'latitude', 'longitude', 'PTCHGP01', 'HEADCM01', 'ROLLGP01', 'TEMPPR01', 'SVELCV01', 'filename', 'instrument_serial_number', 'instrument_model', 'instrument_depth', 'water_depth', 'geographic_area']\n"
     ]
    }
   ],
   "source": [
    "print(ncnames_L1)\n",
    "#filename = dest_dir + fname[0:-2] + '_L0' + 'adcp.nc'\n",
    "\n",
    "data1 = xr.open_dataset(ncnames_L0[0])\n",
    "print(data1)\n",
    "\n",
    "#print(data1.time.max())\n",
    "mykeys = list(data1.keys())\n",
    "print(mykeys)"
   ]
  },
  {
   "cell_type": "markdown",
   "id": "86c6edce-6ce0-4077-abbd-88f7ae2a4d79",
   "metadata": {},
   "source": [
    "## Fig 1. Plot with `matplotlib`\n",
    "\n",
    "Now we'd like to take a look at the data for a single snapshot (a single time).  The example code below will choose the very first frame (where the time index is 0), and plot the latent heat flux.  Update the code in order to plot four fields (sensible, latent, shortwave and longwave).\n",
    "\n",
    "```{seealso}\n",
    "Information and examples using `matplotlib.pyplot.contourf()`: [https://matplotlib.org/stable/api/_as_gen/matplotlib.pyplot.contourf.html](https://matplotlib.org/stable/api/_as_gen/matplotlib.pyplot.contourf.html).\n",
    "\n",
    "Scroll to the bottom of this page, and see a few examples of how to use `contourf()` and what the results can look like.\n",
    "```\n"
   ]
  },
  {
   "cell_type": "code",
   "execution_count": 67,
   "id": "549a898d-73a9-4d7a-a45f-433e7fc29eb7",
   "metadata": {},
   "outputs": [],
   "source": [
    "# Plot the fields\n",
    "ncfile = ncnames_L1[0]\n",
    "ncfile = 'data/a1_20160713_20170513_0480m_L1.adcp.nc'\n",
    "dest_fig = 'figures/'\n",
    "output_files = plot_westcoast_nc_LX.create_westcoast_plots(\n",
    "    ncfile, dest_fig, \"RegOz\", None)"
   ]
  },
  {
   "cell_type": "code",
   "execution_count": null,
   "id": "4bddbbf6-b779-4278-8b85-6b8bb68cd7c0",
   "metadata": {},
   "outputs": [],
   "source": []
  }
 ],
 "metadata": {
  "kernelspec": {
   "display_name": "Python [conda env:root] *",
   "language": "python",
   "name": "conda-root-py"
  },
  "language_info": {
   "codemirror_mode": {
    "name": "ipython",
    "version": 3
   },
   "file_extension": ".py",
   "mimetype": "text/x-python",
   "name": "python",
   "nbconvert_exporter": "python",
   "pygments_lexer": "ipython3",
   "version": "3.8.18"
  }
 },
 "nbformat": 4,
 "nbformat_minor": 5
}
