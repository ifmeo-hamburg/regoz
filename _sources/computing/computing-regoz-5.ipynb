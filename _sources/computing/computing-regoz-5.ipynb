{
 "cells": [
  {
   "cell_type": "markdown",
   "id": "a3068a6a-bb7e-412f-8aff-875afa0543cb",
   "metadata": {},
   "source": [
    "# Python - Loading and plotting ADCP data\n",
    "\n",
    "\n",
    "**Aim:** To load and plot ADCP data from a *.000 binary file.\n",
    "\n",
    "**Data:** Download the data files from [here](https://www.dropbox.com/scl/fo/2vvmtsn925ce69rdff9vv/ANrCDyUea1yq_jAr6B3KSAA?rlkey=avbthcpyfi014p88tz1djuic6&dl=0)\n",
    "\n",
    "**Package:** You will need to install the `pycurrents_ADCP_processing` package from https://github.com/IOS-OSD-DPG/pycurrents_ADCP_processing.  Follow the instructions carefully.  Note that it expects git and mercurial to be installed.\n",
    "\n",
    "<!--If you prefer to do this without python, you can instead get data here: \n",
    "- [ICDC LAS](http://icdc.cen.uni-hamburg.de/las-int/getUI.do?dsid=id-13512db7081948&catid=DE25BCEB877C860DC89A1CFDB057A4B6&varid=air-id-13512db7081948&plot=XY_zoomable_image&view=xy&auto=true)\n",
    "- [PSL NOAA](https://psl.noaa.gov/data/gridded/data.ncep.reanalysis.html)\n",
    "\n",
    "For the purpose of this exercise, it's fine to use either source.-->\n",
    "\n",
    "**Directions:** Create an `*.ipynb` and 2 figures: the sections of velocity.\n",
    "\n",
    "\n",
    "```{admonition}\n",
    "Note: The hard part about this exercise is the installation of the packages.  This will likely take you most of the Uebungen session.\n",
    "```\n",
    "\n",
    "<hr>"
   ]
  },
  {
   "cell_type": "markdown",
   "id": "2019c0dd-b5e8-44cd-b840-7610db220bf5",
   "metadata": {},
   "source": [
    "## Create a notebook & load the data\n",
    "\n",
    "1. Create an `*.ipynb` containing the commands for this assignment, or copy this file and rename it, e.g., `computing-regoz-4-<Lastname>.ipynb`  \n",
    "\n",
    "2. Import necessary packages.\n",
    "\n",
    "\n",
    "    For example, `matplotlib` and `pandas` and `numpy` and `xarray`.  You may also need\n",
    "    ```{python}\n",
    "    import matplotlib.pyplot as plt\n",
    "    import pandas as pd\n",
    "    import numpy as np\n",
    "    import xarray as xr\n",
    "    from datetime import datetime\n",
    "    ```\n",
    "    If you are missing any of these packages, please refer to [Resources: Python](../resource/python).\n",
    "\n",
    "3.  Import the pycurrents_ADCP_processing package.  The installation here is multi-step:\n",
    "\n",
    "   \n",
    "\n",
    "5. Download some data.\n",
    "\n",
    "    - Get the data files [here](https://www.dropbox.com/scl/fo/2vvmtsn925ce69rdff9vv/ANrCDyUea1yq_jAr6B3KSAA?rlkey=avbthcpyfi014p88tz1djuic6&dl=0). Put them in a subdirectory called `data/` \n",
    "\n",
    "6. Make a basic exploration. How big are the data?  What are the coordinates?  Use `print()` or other commands you've learned in previous exercises.\n"
   ]
  },
  {
   "cell_type": "code",
   "execution_count": 1,
   "id": "0a841f3a",
   "metadata": {},
   "outputs": [
    {
     "name": "stderr",
     "output_type": "stream",
     "text": [
      "Exception ignored in: <bound method IPythonKernel._clean_thread_parent_frames of <ipykernel.ipkernel.IPythonKernel object at 0x107d496a0>>\n",
      "Traceback (most recent call last):\n",
      "  File \"/Users/eddifying/micromamba/envs/seaocn_env/lib/python3.8/site-packages/ipykernel/ipkernel.py\", line 770, in _clean_thread_parent_frames\n",
      "    def _clean_thread_parent_frames(\n",
      "KeyboardInterrupt: \n",
      "\n",
      "KeyboardInterrupt\n",
      "\n"
     ]
    }
   ],
   "source": [
    "# Your code here\n",
    "import matplotlib.pyplot as plt\n",
    "import pandas as pd\n",
    "import numpy as np\n",
    "import xarray as xr\n",
    "from datetime import datetime\n",
    "from pycurrents_ADCP_processing import ADCP_processing_L0_L1, ADCP_IOS_Header_file\n",
    "from pycurrents_ADCP_processing import plot_westcoast_nc_LX\n"
   ]
  },
  {
   "cell_type": "markdown",
   "id": "41a44db0-ccfc-4bf5-87bf-0e09b9010344",
   "metadata": {},
   "source": [
    "### Downloading data\n",
    "\n",
    "- Put your data in the folder `data/`\n"
   ]
  },
  {
   "cell_type": "code",
   "execution_count": null,
   "id": "5736636d-c6cf-4e6d-9167-8451b9d40e1f",
   "metadata": {},
   "outputs": [],
   "source": [
    "# Your code here\n",
    "\n",
    "file_path = 'data/'\n",
    "fname = 'a1_20160713_20170513_0480m.000'\n",
    "mname = 'a1_20160713_20170513_0480m_metadata.csv'\n",
    "f = file_path + fname\n",
    "meta = file_path + mname\n",
    "dest_dir = 'data/'\n"
   ]
  },
  {
   "cell_type": "markdown",
   "id": "5007faaf-35c7-4d50-a4cc-65b491017fbc",
   "metadata": {},
   "source": [
    "### Loading the data using the pycurrents package\n",
    "\n",
    "    ncnames_L0 = ADCP_processing_L0_L1.nc_create_L0_L1(in_file=f, file_meta=meta, dest_dir=dest_dir, level=0)\n"
   ]
  },
  {
   "cell_type": "code",
   "execution_count": null,
   "id": "c953b55d-5daf-4e38-bb03-f8e2a2a27848",
   "metadata": {},
   "outputs": [],
   "source": [
    "ncnames_L0 = ADCP_processing_L0_L1.nc_create_L0_L1(in_file=f, file_meta=meta, dest_dir=dest_dir, level=0)\n",
    "ncnames_L1 = ADCP_processing_L0_L1.nc_create_L0_L1(in_file=f, file_meta=meta, dest_dir=dest_dir, level=1)\n"
   ]
  },
  {
   "cell_type": "markdown",
   "id": "2a3cfab9-dfad-4160-b6d1-bec7eb73ab28",
   "metadata": {},
   "source": [
    "### Check out the datafile that was created\n",
    "\n",
    "What are the variable names available?"
   ]
  },
  {
   "cell_type": "code",
   "execution_count": null,
   "id": "d0aec638-c3da-4100-af56-14eeab71bb6d",
   "metadata": {},
   "outputs": [],
   "source": [
    "print(ncnames_L1)\n",
    "#filename = dest_dir + fname[0:-2] + '_L0' + 'adcp.nc'\n",
    "\n",
    "data1 = xr.open_dataset(ncnames_L1[0])\n",
    "print(data1)\n",
    "\n",
    "#print(data1.time.max())\n",
    "mykeys = list(data1.keys())\n",
    "print(mykeys)"
   ]
  },
  {
   "cell_type": "markdown",
   "id": "86c6edce-6ce0-4077-abbd-88f7ae2a4d79",
   "metadata": {},
   "source": [
    "## Fig 1. Plot with `matplotlib`\n",
    "\n",
    "Now we'd like to take a look at the data for a single snapshot (a single time).  The example code below will choose the very first frame (where the time index is 0), and plot the latent heat flux.  Update the code in order to plot four fields (sensible, latent, shortwave and longwave).\n",
    "\n",
    "```{seealso}\n",
    "Information and examples using `matplotlib.pyplot.contourf()`: [https://matplotlib.org/stable/api/_as_gen/matplotlib.pyplot.contourf.html](https://matplotlib.org/stable/api/_as_gen/matplotlib.pyplot.contourf.html).\n",
    "\n",
    "Scroll to the bottom of this page, and see a few examples of how to use `contourf()` and what the results can look like.\n",
    "```\n"
   ]
  },
  {
   "cell_type": "code",
   "execution_count": null,
   "id": "549a898d-73a9-4d7a-a45f-433e7fc29eb7",
   "metadata": {},
   "outputs": [],
   "source": [
    "# Plot the fields\n",
    "ncfile = ncnames_L1[0]\n",
    "ncfile = 'data/a1_20160713_20170513_0480m_L1.adcp.nc'\n",
    "dest_fig = 'figures/'\n",
    "output_files = plot_westcoast_nc_LX.create_westcoast_plots(\n",
    "    ncfile, dest_fig, \"RegOz\", do_all_plots=True)"
   ]
  },
  {
   "cell_type": "code",
   "execution_count": null,
   "id": "fb6bd7e7-0f08-42cb-bb06-cd317f97617d",
   "metadata": {},
   "outputs": [],
   "source": []
  },
  {
   "cell_type": "code",
   "execution_count": null,
   "id": "164c6ace-3890-4c17-9660-fa2e2f70770f",
   "metadata": {},
   "outputs": [],
   "source": []
  }
 ],
 "metadata": {
  "kernelspec": {
   "display_name": "Python [conda env:root] *",
   "language": "python",
   "name": "conda-root-py"
  },
  "language_info": {
   "codemirror_mode": {
    "name": "ipython",
    "version": 3
   },
   "file_extension": ".py",
   "mimetype": "text/x-python",
   "name": "python",
   "nbconvert_exporter": "python",
   "pygments_lexer": "ipython3",
   "version": "3.8.18"
  }
 },
 "nbformat": 4,
 "nbformat_minor": 5
}
